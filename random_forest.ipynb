{
 "cells": [
  {
   "cell_type": "code",
   "execution_count": 1,
   "metadata": {},
   "outputs": [],
   "source": [
    "import pandas as pd\n",
    "import numpy as np\n",
    "from sklearn.datasets import load_boston\n",
    "from sklearn.model_selection import KFold\n",
    "from sklearn.model_selection import cross_val_score\n",
    "from sklearn.preprocessing import scale\n",
    "from sklearn.metrics import accuracy_score\n",
    "from sklearn.preprocessing import StandardScaler\n",
    "from sklearn import datasets\n",
    "from sklearn.feature_extraction.text import TfidfVectorizer\n",
    "from sklearn.model_selection import GridSearchCV\n",
    "from sklearn.metrics import roc_auc_score, confusion_matrix, precision_score, recall_score, \\\n",
    "f1_score, precision_recall_curve, r2_score\n",
    "from sklearn.feature_extraction import DictVectorizer\n",
    "from scipy.sparse import hstack\n",
    "from sklearn.decomposition import PCA\n",
    "from sklearn.ensemble import RandomForestRegressor\n",
    "\n",
    "data_train = pd.read_csv('abalone.csv')\n"
   ]
  },
  {
   "cell_type": "code",
   "execution_count": 2,
   "metadata": {},
   "outputs": [],
   "source": [
    "data_train['Sex'] = data_train['Sex'].apply(lambda x: 1 if x == 'M' else 0 if x == 'I' else -1)"
   ]
  },
  {
   "cell_type": "code",
   "execution_count": 3,
   "metadata": {},
   "outputs": [],
   "source": [
    "X = data_train.drop('Rings', axis=1)\n",
    "y = data_train['Rings']"
   ]
  },
  {
   "cell_type": "code",
   "execution_count": 4,
   "metadata": {},
   "outputs": [
    {
     "name": "stdout",
     "output_type": "stream",
     "text": [
      "0.10967482068860261 1\n",
      "0.3413000096365689 2\n",
      "0.406433829066129 3\n",
      "0.4447745857536912 4\n",
      "0.46503241426823594 5\n",
      "0.47139595825898917 6\n",
      "0.4766658451893487 7\n",
      "0.4829348394224631 8\n",
      "0.4894370162945041 9\n",
      "0.4954085552428177 10\n",
      "0.4944111155773555 11\n",
      "0.49902817866563326 12\n",
      "0.5030578549564464 13\n",
      "0.5073168234618861 14\n",
      "0.5091809969556578 15\n",
      "0.5114105314179662 16\n",
      "0.5148917747729636 17\n",
      "0.5172203573170132 18\n",
      "0.5198293095329432 19\n",
      "0.51948435033775 20\n",
      "0.520529096463528 21\n",
      "0.5208044230080824 22\n",
      "0.521742855685855 23\n",
      "0.5231059969795335 24\n",
      "0.5232486470488318 25\n",
      "0.5243076139284634 26\n",
      "0.5246393588459404 27\n",
      "0.5256557724971402 28\n",
      "0.5265556293057552 29\n",
      "0.5270858715838138 30\n",
      "0.5276420438225101 31\n",
      "0.5289244806388986 32\n",
      "0.5301073722643779 33\n",
      "0.5299613734264366 34\n",
      "0.5298209779129148 35\n",
      "0.529910050667947 36\n",
      "0.5294320415136227 37\n",
      "0.5294715388671245 38\n",
      "0.529515898349607 39\n",
      "0.5294703580378128 40\n",
      "0.5298087685207094 41\n",
      "0.5300433306143383 42\n",
      "0.5299135764090978 43\n",
      "0.5296814957917958 44\n",
      "0.528908112349864 45\n",
      "0.5290083070325597 46\n",
      "0.5291786571646144 47\n",
      "0.5300509396315634 48\n",
      "0.530813058616495 49\n",
      "0.5309509147417047 50\n"
     ]
    }
   ],
   "source": [
    "for n in range(1, 51):\n",
    "    clf = RandomForestRegressor(n_estimators=n, random_state=1)\n",
    "    clf.fit(X, y)\n",
    "    predictions = clf.predict(X)\n",
    "    cv = KFold(n_splits=5, random_state=1, shuffle=True)\n",
    "    kval_scores = cross_val_score(clf, X, y, cv=cv, scoring='r2')\n",
    "    print(np.mean(kval_scores), n)"
   ]
  }
 ],
 "metadata": {
  "kernelspec": {
   "display_name": "Python 3",
   "language": "python",
   "name": "python3"
  },
  "language_info": {
   "codemirror_mode": {
    "name": "ipython",
    "version": 3
   },
   "file_extension": ".py",
   "mimetype": "text/x-python",
   "name": "python",
   "nbconvert_exporter": "python",
   "pygments_lexer": "ipython3",
   "version": "3.9.0"
  }
 },
 "nbformat": 4,
 "nbformat_minor": 4
}
